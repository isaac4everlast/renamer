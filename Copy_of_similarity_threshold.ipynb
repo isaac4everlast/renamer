{
  "nbformat": 4,
  "nbformat_minor": 0,
  "metadata": {
    "colab": {
      "name": "Copy of similarity_threshold.ipynb",
      "provenance": [],
      "collapsed_sections": [],
      "toc_visible": true,
      "include_colab_link": true
    },
    "kernelspec": {
      "name": "python3",
      "display_name": "Python 3"
    }
  },
  "cells": [
    {
      "cell_type": "markdown",
      "metadata": {
        "id": "view-in-github",
        "colab_type": "text"
      },
      "source": [
        "<a href=\"https://colab.research.google.com/github/isaac4everlast/renamer/blob/master/Copy_of_similarity_threshold.ipynb\" target=\"_parent\"><img src=\"https://colab.research.google.com/assets/colab-badge.svg\" alt=\"Open In Colab\"/></a>"
      ]
    },
    {
      "cell_type": "markdown",
      "metadata": {
        "id": "Y_DptoQ6ZlYI",
        "colab_type": "text"
      },
      "source": [
        "# Finding Similarity threshold by a predictive model and validated by human\n",
        "\n",
        "\n",
        "A similarity threshold is a cut-off point to classify whether two documents are similar or not. The similarity threshold behaves differently depending on vector space model and system domain structure, besides the rule of thumb, there is another approach to approximately select the similarity threshold by using a predictive model (i.e., Logistic Regression model) and validated by human\n",
        "\n",
        "\n",
        "---\n",
        "Last update: 24 April 2019\n",
        "\n"
      ]
    },
    {
      "cell_type": "markdown",
      "metadata": {
        "id": "aB5uv4FMPcZE",
        "colab_type": "text"
      },
      "source": [
        "**Load cosine similarity table**"
      ]
    },
    {
      "cell_type": "code",
      "metadata": {
        "id": "t2IN4LK6Ohft",
        "colab_type": "code",
        "colab": {}
      },
      "source": [
        "import pickle\n",
        "f=open(\"css_table\",\"rb\")\n",
        "css_table=pickle.load(f)\n",
        "f.close()"
      ],
      "execution_count": 0,
      "outputs": []
    },
    {
      "cell_type": "markdown",
      "metadata": {
        "id": "vIj3ZPP4Pmsj",
        "colab_type": "text"
      },
      "source": [
        "**Make it into panda dataframe**\n",
        "\n",
        "\n",
        "*   column#3 is cosine similarity computed from our system (Word Sense Disambiguation with Wor2vec and WordNet) between column#0 (context) and column#2 (word sense definition)\n",
        "*   column#4 is given by a binary score (1 if relevant 0 if not relevant) whether column#0 (context) and column#2 (word sense definition) are relevant. This is done by Human without seeing cosine similarity(column#3). Column#1 is a word sense name may help to give a binary score easier.\n",
        "\n",
        "\n",
        "\n"
      ]
    },
    {
      "cell_type": "code",
      "metadata": {
        "id": "dMP8SDzeOxp1",
        "colab_type": "code",
        "outputId": "c6fdaab5-075e-477b-e25f-a751d72781b7",
        "colab": {
          "base_uri": "https://localhost:8080/",
          "height": 203
        }
      },
      "source": [
        "import pandas as pd\n",
        "df = pd.DataFrame(css_table) \n",
        "df.head()"
      ],
      "execution_count": 0,
      "outputs": [
        {
          "output_type": "execute_result",
          "data": {
            "text/html": [
              "<div>\n",
              "<style scoped>\n",
              "    .dataframe tbody tr th:only-of-type {\n",
              "        vertical-align: middle;\n",
              "    }\n",
              "\n",
              "    .dataframe tbody tr th {\n",
              "        vertical-align: top;\n",
              "    }\n",
              "\n",
              "    .dataframe thead th {\n",
              "        text-align: right;\n",
              "    }\n",
              "</style>\n",
              "<table border=\"1\" class=\"dataframe\">\n",
              "  <thead>\n",
              "    <tr style=\"text-align: right;\">\n",
              "      <th></th>\n",
              "      <th>0</th>\n",
              "      <th>1</th>\n",
              "      <th>2</th>\n",
              "      <th>3</th>\n",
              "      <th>4</th>\n",
              "    </tr>\n",
              "  </thead>\n",
              "  <tbody>\n",
              "    <tr>\n",
              "      <th>0</th>\n",
              "      <td>That man said Haney peered doubtfully</td>\n",
              "      <td>be.v.03</td>\n",
              "      <td>occupy a certain position or area; be somewhere</td>\n",
              "      <td>[[0.36488017]]</td>\n",
              "      <td>0</td>\n",
              "    </tr>\n",
              "    <tr>\n",
              "      <th>1</th>\n",
              "      <td>That man said Haney peered doubtfully</td>\n",
              "      <td>be.v.02</td>\n",
              "      <td>be identical to; be someone or something</td>\n",
              "      <td>[[0.35770178]]</td>\n",
              "      <td>0</td>\n",
              "    </tr>\n",
              "    <tr>\n",
              "      <th>2</th>\n",
              "      <td>That man said Haney peered doubtfully</td>\n",
              "      <td>be.v.01</td>\n",
              "      <td>have the quality of being; (copula, used with ...</td>\n",
              "      <td>[[0.33516818]]</td>\n",
              "      <td>1</td>\n",
              "    </tr>\n",
              "    <tr>\n",
              "      <th>3</th>\n",
              "      <td>That man said Haney peered doubtfully</td>\n",
              "      <td>be.v.05</td>\n",
              "      <td>happen, occur, take place; this was during the...</td>\n",
              "      <td>[[0.325721]]</td>\n",
              "      <td>0</td>\n",
              "    </tr>\n",
              "    <tr>\n",
              "      <th>4</th>\n",
              "      <td>That man said Haney peered doubtfully</td>\n",
              "      <td>be.v.08</td>\n",
              "      <td>work in a specific place, with a specific subj...</td>\n",
              "      <td>[[0.28397858]]</td>\n",
              "      <td>0</td>\n",
              "    </tr>\n",
              "  </tbody>\n",
              "</table>\n",
              "</div>"
            ],
            "text/plain": [
              "                                       0        1  \\\n",
              "0  That man said Haney peered doubtfully  be.v.03   \n",
              "1  That man said Haney peered doubtfully  be.v.02   \n",
              "2  That man said Haney peered doubtfully  be.v.01   \n",
              "3  That man said Haney peered doubtfully  be.v.05   \n",
              "4  That man said Haney peered doubtfully  be.v.08   \n",
              "\n",
              "                                                   2               3  4  \n",
              "0    occupy a certain position or area; be somewhere  [[0.36488017]]  0  \n",
              "1           be identical to; be someone or something  [[0.35770178]]  0  \n",
              "2  have the quality of being; (copula, used with ...  [[0.33516818]]  1  \n",
              "3  happen, occur, take place; this was during the...    [[0.325721]]  0  \n",
              "4  work in a specific place, with a specific subj...  [[0.28397858]]  0  "
            ]
          },
          "metadata": {
            "tags": []
          },
          "execution_count": 7
        }
      ]
    },
    {
      "cell_type": "markdown",
      "metadata": {
        "id": "WOpKXj8pO9Re",
        "colab_type": "text"
      },
      "source": [
        "**Convert column #3 to float**"
      ]
    },
    {
      "cell_type": "code",
      "metadata": {
        "id": "cp1pfLhNO4iY",
        "colab_type": "code",
        "outputId": "30d1eb56-bb33-4a00-cc2a-cfad3d9d9f0c",
        "colab": {
          "base_uri": "https://localhost:8080/",
          "height": 203
        }
      },
      "source": [
        "l=[]\n",
        "for i in range(len(df.iloc[:,3])):\n",
        "    l.append(float(df.iloc[:,3][i].flatten()))\n",
        "df.iloc[:,3]=l\n",
        "df.head()"
      ],
      "execution_count": 0,
      "outputs": [
        {
          "output_type": "execute_result",
          "data": {
            "text/html": [
              "<div>\n",
              "<style scoped>\n",
              "    .dataframe tbody tr th:only-of-type {\n",
              "        vertical-align: middle;\n",
              "    }\n",
              "\n",
              "    .dataframe tbody tr th {\n",
              "        vertical-align: top;\n",
              "    }\n",
              "\n",
              "    .dataframe thead th {\n",
              "        text-align: right;\n",
              "    }\n",
              "</style>\n",
              "<table border=\"1\" class=\"dataframe\">\n",
              "  <thead>\n",
              "    <tr style=\"text-align: right;\">\n",
              "      <th></th>\n",
              "      <th>0</th>\n",
              "      <th>1</th>\n",
              "      <th>2</th>\n",
              "      <th>3</th>\n",
              "      <th>4</th>\n",
              "    </tr>\n",
              "  </thead>\n",
              "  <tbody>\n",
              "    <tr>\n",
              "      <th>0</th>\n",
              "      <td>That man said Haney peered doubtfully</td>\n",
              "      <td>be.v.03</td>\n",
              "      <td>occupy a certain position or area; be somewhere</td>\n",
              "      <td>0.364880</td>\n",
              "      <td>0</td>\n",
              "    </tr>\n",
              "    <tr>\n",
              "      <th>1</th>\n",
              "      <td>That man said Haney peered doubtfully</td>\n",
              "      <td>be.v.02</td>\n",
              "      <td>be identical to; be someone or something</td>\n",
              "      <td>0.357702</td>\n",
              "      <td>0</td>\n",
              "    </tr>\n",
              "    <tr>\n",
              "      <th>2</th>\n",
              "      <td>That man said Haney peered doubtfully</td>\n",
              "      <td>be.v.01</td>\n",
              "      <td>have the quality of being; (copula, used with ...</td>\n",
              "      <td>0.335168</td>\n",
              "      <td>1</td>\n",
              "    </tr>\n",
              "    <tr>\n",
              "      <th>3</th>\n",
              "      <td>That man said Haney peered doubtfully</td>\n",
              "      <td>be.v.05</td>\n",
              "      <td>happen, occur, take place; this was during the...</td>\n",
              "      <td>0.325721</td>\n",
              "      <td>0</td>\n",
              "    </tr>\n",
              "    <tr>\n",
              "      <th>4</th>\n",
              "      <td>That man said Haney peered doubtfully</td>\n",
              "      <td>be.v.08</td>\n",
              "      <td>work in a specific place, with a specific subj...</td>\n",
              "      <td>0.283979</td>\n",
              "      <td>0</td>\n",
              "    </tr>\n",
              "  </tbody>\n",
              "</table>\n",
              "</div>"
            ],
            "text/plain": [
              "                                       0        1  \\\n",
              "0  That man said Haney peered doubtfully  be.v.03   \n",
              "1  That man said Haney peered doubtfully  be.v.02   \n",
              "2  That man said Haney peered doubtfully  be.v.01   \n",
              "3  That man said Haney peered doubtfully  be.v.05   \n",
              "4  That man said Haney peered doubtfully  be.v.08   \n",
              "\n",
              "                                                   2         3  4  \n",
              "0    occupy a certain position or area; be somewhere  0.364880  0  \n",
              "1           be identical to; be someone or something  0.357702  0  \n",
              "2  have the quality of being; (copula, used with ...  0.335168  1  \n",
              "3  happen, occur, take place; this was during the...  0.325721  0  \n",
              "4  work in a specific place, with a specific subj...  0.283979  0  "
            ]
          },
          "metadata": {
            "tags": []
          },
          "execution_count": 6
        }
      ]
    },
    {
      "cell_type": "markdown",
      "metadata": {
        "id": "RcDWV-X8Pwpc",
        "colab_type": "text"
      },
      "source": [
        "**Filter only column#4 that contains 1** \n"
      ]
    },
    {
      "cell_type": "code",
      "metadata": {
        "id": "d1-ycKL3PwDF",
        "colab_type": "code",
        "outputId": "d4283d1d-3d5e-442b-d79d-a56de7efc24c",
        "colab": {
          "base_uri": "https://localhost:8080/",
          "height": 203
        }
      },
      "source": [
        "is_one=df.iloc[:,4]==1\n",
        "onedf=df[is_one]\n",
        "onedf.head()"
      ],
      "execution_count": 0,
      "outputs": [
        {
          "output_type": "execute_result",
          "data": {
            "text/html": [
              "<div>\n",
              "<style scoped>\n",
              "    .dataframe tbody tr th:only-of-type {\n",
              "        vertical-align: middle;\n",
              "    }\n",
              "\n",
              "    .dataframe tbody tr th {\n",
              "        vertical-align: top;\n",
              "    }\n",
              "\n",
              "    .dataframe thead th {\n",
              "        text-align: right;\n",
              "    }\n",
              "</style>\n",
              "<table border=\"1\" class=\"dataframe\">\n",
              "  <thead>\n",
              "    <tr style=\"text-align: right;\">\n",
              "      <th></th>\n",
              "      <th>0</th>\n",
              "      <th>1</th>\n",
              "      <th>2</th>\n",
              "      <th>3</th>\n",
              "      <th>4</th>\n",
              "    </tr>\n",
              "  </thead>\n",
              "  <tbody>\n",
              "    <tr>\n",
              "      <th>2</th>\n",
              "      <td>That man said Haney peered doubtfully</td>\n",
              "      <td>be.v.01</td>\n",
              "      <td>have the quality of being; (copula, used with ...</td>\n",
              "      <td>[[0.33516818]]</td>\n",
              "      <td>1</td>\n",
              "    </tr>\n",
              "    <tr>\n",
              "      <th>13</th>\n",
              "      <td>That be said Haney peered doubtfully drinking</td>\n",
              "      <td>man.n.01</td>\n",
              "      <td>an adult person who is male (as opposed to a w...</td>\n",
              "      <td>[[0.35573655]]</td>\n",
              "      <td>1</td>\n",
              "    </tr>\n",
              "    <tr>\n",
              "      <th>33</th>\n",
              "      <td>That be man Haney peered doubtfully drinking c...</td>\n",
              "      <td>allege.v.01</td>\n",
              "      <td>report or maintain</td>\n",
              "      <td>[[0.21140294]]</td>\n",
              "      <td>1</td>\n",
              "    </tr>\n",
              "    <tr>\n",
              "      <th>35</th>\n",
              "      <td>That be man said Haney doubtfully drinking com...</td>\n",
              "      <td>peer.v.01</td>\n",
              "      <td>look searchingly</td>\n",
              "      <td>[[0.48842093]]</td>\n",
              "      <td>1</td>\n",
              "    </tr>\n",
              "    <tr>\n",
              "      <th>36</th>\n",
              "      <td>said Haney peered doubtfully drinking bleary t...</td>\n",
              "      <td>companion.n.01</td>\n",
              "      <td>a friend who is frequently in the company of a...</td>\n",
              "      <td>[[0.39331543]]</td>\n",
              "      <td>1</td>\n",
              "    </tr>\n",
              "  </tbody>\n",
              "</table>\n",
              "</div>"
            ],
            "text/plain": [
              "                                                    0               1  \\\n",
              "2               That man said Haney peered doubtfully         be.v.01   \n",
              "13      That be said Haney peered doubtfully drinking        man.n.01   \n",
              "33  That be man Haney peered doubtfully drinking c...     allege.v.01   \n",
              "35  That be man said Haney doubtfully drinking com...       peer.v.01   \n",
              "36  said Haney peered doubtfully drinking bleary t...  companion.n.01   \n",
              "\n",
              "                                                    2               3  4  \n",
              "2   have the quality of being; (copula, used with ...  [[0.33516818]]  1  \n",
              "13  an adult person who is male (as opposed to a w...  [[0.35573655]]  1  \n",
              "33                                 report or maintain  [[0.21140294]]  1  \n",
              "35                                   look searchingly  [[0.48842093]]  1  \n",
              "36  a friend who is frequently in the company of a...  [[0.39331543]]  1  "
            ]
          },
          "metadata": {
            "tags": []
          },
          "execution_count": 8
        }
      ]
    },
    {
      "cell_type": "markdown",
      "metadata": {
        "id": "aSAkxMFJQfNP",
        "colab_type": "text"
      },
      "source": [
        "**Filter only column#4 that contains 0** \n",
        "\n"
      ]
    },
    {
      "cell_type": "code",
      "metadata": {
        "id": "xck-Pz1dQloH",
        "colab_type": "code",
        "outputId": "17f0812a-07ee-493b-84bb-4b3a10d28df4",
        "colab": {
          "base_uri": "https://localhost:8080/",
          "height": 203
        }
      },
      "source": [
        "is_zero=df.iloc[:,4]==0\n",
        "zerodf=df[is_zero]\n",
        "zerodf.head()"
      ],
      "execution_count": 0,
      "outputs": [
        {
          "output_type": "execute_result",
          "data": {
            "text/html": [
              "<div>\n",
              "<style scoped>\n",
              "    .dataframe tbody tr th:only-of-type {\n",
              "        vertical-align: middle;\n",
              "    }\n",
              "\n",
              "    .dataframe tbody tr th {\n",
              "        vertical-align: top;\n",
              "    }\n",
              "\n",
              "    .dataframe thead th {\n",
              "        text-align: right;\n",
              "    }\n",
              "</style>\n",
              "<table border=\"1\" class=\"dataframe\">\n",
              "  <thead>\n",
              "    <tr style=\"text-align: right;\">\n",
              "      <th></th>\n",
              "      <th>0</th>\n",
              "      <th>1</th>\n",
              "      <th>2</th>\n",
              "      <th>3</th>\n",
              "      <th>4</th>\n",
              "    </tr>\n",
              "  </thead>\n",
              "  <tbody>\n",
              "    <tr>\n",
              "      <th>0</th>\n",
              "      <td>That man said Haney peered doubtfully</td>\n",
              "      <td>be.v.03</td>\n",
              "      <td>occupy a certain position or area; be somewhere</td>\n",
              "      <td>[[0.36488017]]</td>\n",
              "      <td>0</td>\n",
              "    </tr>\n",
              "    <tr>\n",
              "      <th>1</th>\n",
              "      <td>That man said Haney peered doubtfully</td>\n",
              "      <td>be.v.02</td>\n",
              "      <td>be identical to; be someone or something</td>\n",
              "      <td>[[0.35770178]]</td>\n",
              "      <td>0</td>\n",
              "    </tr>\n",
              "    <tr>\n",
              "      <th>3</th>\n",
              "      <td>That man said Haney peered doubtfully</td>\n",
              "      <td>be.v.05</td>\n",
              "      <td>happen, occur, take place; this was during the...</td>\n",
              "      <td>[[0.325721]]</td>\n",
              "      <td>0</td>\n",
              "    </tr>\n",
              "    <tr>\n",
              "      <th>4</th>\n",
              "      <td>That man said Haney peered doubtfully</td>\n",
              "      <td>be.v.08</td>\n",
              "      <td>work in a specific place, with a specific subj...</td>\n",
              "      <td>[[0.28397858]]</td>\n",
              "      <td>0</td>\n",
              "    </tr>\n",
              "    <tr>\n",
              "      <th>5</th>\n",
              "      <td>That man said Haney peered doubtfully</td>\n",
              "      <td>embody.v.02</td>\n",
              "      <td>represent, as of a character on stage</td>\n",
              "      <td>[[0.27608478]]</td>\n",
              "      <td>0</td>\n",
              "    </tr>\n",
              "  </tbody>\n",
              "</table>\n",
              "</div>"
            ],
            "text/plain": [
              "                                       0            1  \\\n",
              "0  That man said Haney peered doubtfully      be.v.03   \n",
              "1  That man said Haney peered doubtfully      be.v.02   \n",
              "3  That man said Haney peered doubtfully      be.v.05   \n",
              "4  That man said Haney peered doubtfully      be.v.08   \n",
              "5  That man said Haney peered doubtfully  embody.v.02   \n",
              "\n",
              "                                                   2               3  4  \n",
              "0    occupy a certain position or area; be somewhere  [[0.36488017]]  0  \n",
              "1           be identical to; be someone or something  [[0.35770178]]  0  \n",
              "3  happen, occur, take place; this was during the...    [[0.325721]]  0  \n",
              "4  work in a specific place, with a specific subj...  [[0.28397858]]  0  \n",
              "5              represent, as of a character on stage  [[0.27608478]]  0  "
            ]
          },
          "metadata": {
            "tags": []
          },
          "execution_count": 9
        }
      ]
    },
    {
      "cell_type": "markdown",
      "metadata": {
        "id": "r4wEg9RbQrMV",
        "colab_type": "text"
      },
      "source": [
        "**Sample from onedf and zerodf each for 1000 reccords for making balance dataset**"
      ]
    },
    {
      "cell_type": "code",
      "metadata": {
        "id": "HqarYaZ_Q2yk",
        "colab_type": "code",
        "outputId": "737626dc-b885-4e40-fe56-351b17d1f448",
        "colab": {
          "base_uri": "https://localhost:8080/",
          "height": 203
        }
      },
      "source": [
        "onedf_sample=onedf.sample(n=1000, random_state=1)\n",
        "onedf_sample.head()"
      ],
      "execution_count": 0,
      "outputs": [
        {
          "output_type": "execute_result",
          "data": {
            "text/html": [
              "<div>\n",
              "<style scoped>\n",
              "    .dataframe tbody tr th:only-of-type {\n",
              "        vertical-align: middle;\n",
              "    }\n",
              "\n",
              "    .dataframe tbody tr th {\n",
              "        vertical-align: top;\n",
              "    }\n",
              "\n",
              "    .dataframe thead th {\n",
              "        text-align: right;\n",
              "    }\n",
              "</style>\n",
              "<table border=\"1\" class=\"dataframe\">\n",
              "  <thead>\n",
              "    <tr style=\"text-align: right;\">\n",
              "      <th></th>\n",
              "      <th>0</th>\n",
              "      <th>1</th>\n",
              "      <th>2</th>\n",
              "      <th>3</th>\n",
              "      <th>4</th>\n",
              "    </tr>\n",
              "  </thead>\n",
              "  <tbody>\n",
              "    <tr>\n",
              "      <th>10330</th>\n",
              "      <td>hole waiting game start I temblor begin glance...</td>\n",
              "      <td>feel.v.03</td>\n",
              "      <td>perceive by a physical sensation, e.g., coming...</td>\n",
              "      <td>[[0.2956411]]</td>\n",
              "      <td>1</td>\n",
              "    </tr>\n",
              "    <tr>\n",
              "      <th>2827</th>\n",
              "      <td>nodded farewell Haney watched small man slip d...</td>\n",
              "      <td>stringy.s.01</td>\n",
              "      <td>lean and sinewy</td>\n",
              "      <td>[[0.24022974]]</td>\n",
              "      <td>1</td>\n",
              "    </tr>\n",
              "    <tr>\n",
              "      <th>6786</th>\n",
              "      <td>responsibilities voting office dealing nationa...</td>\n",
              "      <td>issue.n.01</td>\n",
              "      <td>an important question that is in dispute and m...</td>\n",
              "      <td>[[0.42392123]]</td>\n",
              "      <td>1</td>\n",
              "    </tr>\n",
              "    <tr>\n",
              "      <th>11623</th>\n",
              "      <td>see clouds across bay horrible Marina District...</td>\n",
              "      <td>fire.n.01</td>\n",
              "      <td>the event of something burning (often destruct...</td>\n",
              "      <td>[[0.3275925]]</td>\n",
              "      <td>1</td>\n",
              "    </tr>\n",
              "    <tr>\n",
              "      <th>1452</th>\n",
              "      <td>usually went alone kept sitting passing time n...</td>\n",
              "      <td>corner.n.03</td>\n",
              "      <td>an interior angle formed by two meeting walls</td>\n",
              "      <td>[[0.39241874]]</td>\n",
              "      <td>1</td>\n",
              "    </tr>\n",
              "  </tbody>\n",
              "</table>\n",
              "</div>"
            ],
            "text/plain": [
              "                                                       0             1  \\\n",
              "10330  hole waiting game start I temblor begin glance...     feel.v.03   \n",
              "2827   nodded farewell Haney watched small man slip d...  stringy.s.01   \n",
              "6786   responsibilities voting office dealing nationa...    issue.n.01   \n",
              "11623  see clouds across bay horrible Marina District...     fire.n.01   \n",
              "1452   usually went alone kept sitting passing time n...   corner.n.03   \n",
              "\n",
              "                                                       2               3  4  \n",
              "10330  perceive by a physical sensation, e.g., coming...   [[0.2956411]]  1  \n",
              "2827                                     lean and sinewy  [[0.24022974]]  1  \n",
              "6786   an important question that is in dispute and m...  [[0.42392123]]  1  \n",
              "11623  the event of something burning (often destruct...   [[0.3275925]]  1  \n",
              "1452       an interior angle formed by two meeting walls  [[0.39241874]]  1  "
            ]
          },
          "metadata": {
            "tags": []
          },
          "execution_count": 10
        }
      ]
    },
    {
      "cell_type": "code",
      "metadata": {
        "id": "zBSKhaEWQ7A_",
        "colab_type": "code",
        "outputId": "4ca6b5ac-7ce7-4238-e49a-f677bb5be479",
        "colab": {
          "base_uri": "https://localhost:8080/",
          "height": 203
        }
      },
      "source": [
        "zerodf_sample=zerodf.sample(n=1000, random_state=1)\n",
        "zerodf_sample.head()"
      ],
      "execution_count": 0,
      "outputs": [
        {
          "output_type": "execute_result",
          "data": {
            "text/html": [
              "<div>\n",
              "<style scoped>\n",
              "    .dataframe tbody tr th:only-of-type {\n",
              "        vertical-align: middle;\n",
              "    }\n",
              "\n",
              "    .dataframe tbody tr th {\n",
              "        vertical-align: top;\n",
              "    }\n",
              "\n",
              "    .dataframe thead th {\n",
              "        text-align: right;\n",
              "    }\n",
              "</style>\n",
              "<table border=\"1\" class=\"dataframe\">\n",
              "  <thead>\n",
              "    <tr style=\"text-align: right;\">\n",
              "      <th></th>\n",
              "      <th>0</th>\n",
              "      <th>1</th>\n",
              "      <th>2</th>\n",
              "      <th>3</th>\n",
              "      <th>4</th>\n",
              "    </tr>\n",
              "  </thead>\n",
              "  <tbody>\n",
              "    <tr>\n",
              "      <th>6020</th>\n",
              "      <td>know The cops not suspect I thought was coinci...</td>\n",
              "      <td>thing.n.01</td>\n",
              "      <td>a special situation</td>\n",
              "      <td>[[0.52900726]]</td>\n",
              "      <td>0</td>\n",
              "    </tr>\n",
              "    <tr>\n",
              "      <th>6541</th>\n",
              "      <td>Congress Prior pattern was nearly What account...</td>\n",
              "      <td>inverse.n.01</td>\n",
              "      <td>something inverted in sequence or character or...</td>\n",
              "      <td>[[0.3250884]]</td>\n",
              "      <td>0</td>\n",
              "    </tr>\n",
              "    <tr>\n",
              "      <th>4780</th>\n",
              "      <td>going be saddled now creep buddy He have start...</td>\n",
              "      <td>browning_automatic_rifle.n.01</td>\n",
              "      <td>a portable .30 caliber automatic rifle operate...</td>\n",
              "      <td>[[0.22661951]]</td>\n",
              "      <td>0</td>\n",
              "    </tr>\n",
              "    <tr>\n",
              "      <th>455</th>\n",
              "      <td>blurred two hours steady drinking came back Th...</td>\n",
              "      <td>affair.n.03</td>\n",
              "      <td>a vaguely specified social event</td>\n",
              "      <td>[[0.37339756]]</td>\n",
              "      <td>0</td>\n",
              "    </tr>\n",
              "    <tr>\n",
              "      <th>4108</th>\n",
              "      <td>be tight knew was It same bar was two weeks</td>\n",
              "      <td>equal.v.01</td>\n",
              "      <td>be identical or equivalent to</td>\n",
              "      <td>[[0.2976371]]</td>\n",
              "      <td>0</td>\n",
              "    </tr>\n",
              "  </tbody>\n",
              "</table>\n",
              "</div>"
            ],
            "text/plain": [
              "                                                      0  \\\n",
              "6020  know The cops not suspect I thought was coinci...   \n",
              "6541  Congress Prior pattern was nearly What account...   \n",
              "4780  going be saddled now creep buddy He have start...   \n",
              "455   blurred two hours steady drinking came back Th...   \n",
              "4108        be tight knew was It same bar was two weeks   \n",
              "\n",
              "                                  1  \\\n",
              "6020                     thing.n.01   \n",
              "6541                   inverse.n.01   \n",
              "4780  browning_automatic_rifle.n.01   \n",
              "455                     affair.n.03   \n",
              "4108                     equal.v.01   \n",
              "\n",
              "                                                      2               3  4  \n",
              "6020                                a special situation  [[0.52900726]]  0  \n",
              "6541  something inverted in sequence or character or...   [[0.3250884]]  0  \n",
              "4780  a portable .30 caliber automatic rifle operate...  [[0.22661951]]  0  \n",
              "455                    a vaguely specified social event  [[0.37339756]]  0  \n",
              "4108                      be identical or equivalent to   [[0.2976371]]  0  "
            ]
          },
          "metadata": {
            "tags": []
          },
          "execution_count": 11
        }
      ]
    },
    {
      "cell_type": "markdown",
      "metadata": {
        "id": "ukiHeY8wRFy-",
        "colab_type": "text"
      },
      "source": [
        "**Make new df from onedf_sample and zero_sample then shuffle it**"
      ]
    },
    {
      "cell_type": "code",
      "metadata": {
        "id": "wcApZIskRLBi",
        "colab_type": "code",
        "outputId": "24e2b887-a1aa-45b6-ba29-58cc73f89139",
        "colab": {
          "base_uri": "https://localhost:8080/",
          "height": 203
        }
      },
      "source": [
        "from sklearn.utils import shuffle\n",
        "newdf=onedf_sample.append(zerodf_sample, ignore_index=True)\n",
        "newdf = shuffle(newdf)\n",
        "newdf.head()"
      ],
      "execution_count": 0,
      "outputs": [
        {
          "output_type": "execute_result",
          "data": {
            "text/html": [
              "<div>\n",
              "<style scoped>\n",
              "    .dataframe tbody tr th:only-of-type {\n",
              "        vertical-align: middle;\n",
              "    }\n",
              "\n",
              "    .dataframe tbody tr th {\n",
              "        vertical-align: top;\n",
              "    }\n",
              "\n",
              "    .dataframe thead th {\n",
              "        text-align: right;\n",
              "    }\n",
              "</style>\n",
              "<table border=\"1\" class=\"dataframe\">\n",
              "  <thead>\n",
              "    <tr style=\"text-align: right;\">\n",
              "      <th></th>\n",
              "      <th>0</th>\n",
              "      <th>1</th>\n",
              "      <th>2</th>\n",
              "      <th>3</th>\n",
              "      <th>4</th>\n",
              "    </tr>\n",
              "  </thead>\n",
              "  <tbody>\n",
              "    <tr>\n",
              "      <th>492</th>\n",
              "      <td>severely damaged old lady old are guest room B...</td>\n",
              "      <td>mother.n.01</td>\n",
              "      <td>a woman who has given birth to a child (also u...</td>\n",
              "      <td>[[0.51679826]]</td>\n",
              "      <td>1</td>\n",
              "    </tr>\n",
              "    <tr>\n",
              "      <th>1950</th>\n",
              "      <td>wondered truck driver seen eyes back It been s...</td>\n",
              "      <td>draw.v.04</td>\n",
              "      <td>make, formulate, or derive in the mind</td>\n",
              "      <td>[[0.41207674]]</td>\n",
              "      <td>0</td>\n",
              "    </tr>\n",
              "    <tr>\n",
              "      <th>1479</th>\n",
              "      <td>listener showed alert face suddenly eyes When ...</td>\n",
              "      <td>bright.s.05</td>\n",
              "      <td>made smooth and bright by or as if by rubbing;...</td>\n",
              "      <td>[[0.41021758]]</td>\n",
              "      <td>0</td>\n",
              "    </tr>\n",
              "    <tr>\n",
              "      <th>1534</th>\n",
              "      <td>I was favorite watering hole game start I felt...</td>\n",
              "      <td>expect.v.03</td>\n",
              "      <td>look forward to the probable occurrence of</td>\n",
              "      <td>[[0.2810401]]</td>\n",
              "      <td>0</td>\n",
              "    </tr>\n",
              "    <tr>\n",
              "      <th>582</th>\n",
              "      <td>car alarms went The cats fine nervous time DHA...</td>\n",
              "      <td>be.v.01</td>\n",
              "      <td>have the quality of being; (copula, used with ...</td>\n",
              "      <td>[[0.39857674]]</td>\n",
              "      <td>1</td>\n",
              "    </tr>\n",
              "  </tbody>\n",
              "</table>\n",
              "</div>"
            ],
            "text/plain": [
              "                                                      0            1  \\\n",
              "492   severely damaged old lady old are guest room B...  mother.n.01   \n",
              "1950  wondered truck driver seen eyes back It been s...    draw.v.04   \n",
              "1479  listener showed alert face suddenly eyes When ...  bright.s.05   \n",
              "1534  I was favorite watering hole game start I felt...  expect.v.03   \n",
              "582   car alarms went The cats fine nervous time DHA...      be.v.01   \n",
              "\n",
              "                                                      2               3  4  \n",
              "492   a woman who has given birth to a child (also u...  [[0.51679826]]  1  \n",
              "1950             make, formulate, or derive in the mind  [[0.41207674]]  0  \n",
              "1479  made smooth and bright by or as if by rubbing;...  [[0.41021758]]  0  \n",
              "1534         look forward to the probable occurrence of   [[0.2810401]]  0  \n",
              "582   have the quality of being; (copula, used with ...  [[0.39857674]]  1  "
            ]
          },
          "metadata": {
            "tags": []
          },
          "execution_count": 12
        }
      ]
    },
    {
      "cell_type": "markdown",
      "metadata": {
        "id": "kDjkTbtqRYS9",
        "colab_type": "text"
      },
      "source": [
        "**Make a X and y dataset for input to Logistic Regression Model**"
      ]
    },
    {
      "cell_type": "code",
      "metadata": {
        "id": "NRv3W9g_RiLd",
        "colab_type": "code",
        "outputId": "99b5961a-257d-460c-d05b-f01b26cc5e86",
        "colab": {
          "base_uri": "https://localhost:8080/",
          "height": 120
        }
      },
      "source": [
        "X=newdf.iloc[:,3]\n",
        "X.head()"
      ],
      "execution_count": 0,
      "outputs": [
        {
          "output_type": "execute_result",
          "data": {
            "text/plain": [
              "492     [[0.51679826]]\n",
              "1950    [[0.41207674]]\n",
              "1479    [[0.41021758]]\n",
              "1534     [[0.2810401]]\n",
              "582     [[0.39857674]]\n",
              "Name: 3, dtype: object"
            ]
          },
          "metadata": {
            "tags": []
          },
          "execution_count": 13
        }
      ]
    },
    {
      "cell_type": "code",
      "metadata": {
        "id": "am9GeVxIRsI4",
        "colab_type": "code",
        "outputId": "f24431b3-08cc-4635-9dfe-8533c5f31e04",
        "colab": {
          "base_uri": "https://localhost:8080/",
          "height": 120
        }
      },
      "source": [
        "y=newdf.iloc[:,4]\n",
        "y.head()"
      ],
      "execution_count": 0,
      "outputs": [
        {
          "output_type": "execute_result",
          "data": {
            "text/plain": [
              "492     1\n",
              "1950    0\n",
              "1479    0\n",
              "1534    0\n",
              "582     1\n",
              "Name: 4, dtype: int64"
            ]
          },
          "metadata": {
            "tags": []
          },
          "execution_count": 14
        }
      ]
    },
    {
      "cell_type": "markdown",
      "metadata": {
        "id": "XMo--bhLRwyP",
        "colab_type": "text"
      },
      "source": [
        "**Create a Logistic Regression Model**\n",
        "\n",
        "*   Split for X,y dataset to train and test with 0.3 of dataset size\n",
        "*   Reshape X_train and X_test for input to model\n",
        "*   Create a Logistic Regression Model with lbfgs solver\n",
        "*   Fit the model with X_train and y_train (the model will find an equation that minimizes y_train with y_predict)\n",
        "*  The accuracy of model is 0.63\n",
        "\n",
        "\n"
      ]
    },
    {
      "cell_type": "code",
      "metadata": {
        "id": "dWKUtUEFRzyN",
        "colab_type": "code",
        "outputId": "796d1b85-436a-481b-f77e-d1acc2480d83",
        "colab": {
          "base_uri": "https://localhost:8080/",
          "height": 86
        }
      },
      "source": [
        "from sklearn.linear_model import LogisticRegression\n",
        "from sklearn import metrics\n",
        "from sklearn.model_selection import train_test_split\n",
        "import numpy as np\n",
        "X_train, X_test, y_train, y_test = train_test_split(X, y, test_size=0.3, random_state=0)\n",
        "\n",
        "X_train=np.array(X_train).reshape(-1,1)\n",
        "X_test=np.array(X_test).reshape(-1,1)\n",
        "\n",
        "logreg = LogisticRegression(solver='lbfgs')\n",
        "logreg.fit(X_train, y_train)\n"
      ],
      "execution_count": 0,
      "outputs": [
        {
          "output_type": "execute_result",
          "data": {
            "text/plain": [
              "LogisticRegression(C=1.0, class_weight=None, dual=False, fit_intercept=True,\n",
              "          intercept_scaling=1, max_iter=100, multi_class='warn',\n",
              "          n_jobs=None, penalty='l2', random_state=None, solver='lbfgs',\n",
              "          tol=0.0001, verbose=0, warm_start=False)"
            ]
          },
          "metadata": {
            "tags": []
          },
          "execution_count": 20
        }
      ]
    },
    {
      "cell_type": "code",
      "metadata": {
        "id": "Dze3vNDcSy6n",
        "colab_type": "code",
        "outputId": "ebeede3d-9778-4203-c477-7e3cd1103ec2",
        "colab": {
          "base_uri": "https://localhost:8080/",
          "height": 34
        }
      },
      "source": [
        "print('Accuracy of logistic regression classifier on test set: {:.2f}'.format(logreg.score(X_test, y_test)))"
      ],
      "execution_count": 0,
      "outputs": [
        {
          "output_type": "stream",
          "text": [
            "Accuracy of logistic regression classifier on test set: 0.63\n"
          ],
          "name": "stdout"
        }
      ]
    },
    {
      "cell_type": "markdown",
      "metadata": {
        "id": "Erud9Nq1TA5E",
        "colab_type": "text"
      },
      "source": [
        "**Input X_test to the model and produce y_pred **\n",
        "\n",
        "*   then compare y_pred with y_test and make confusion matrix\n",
        "*   make classification report\n",
        "*   make a ROC plot\n",
        "\n"
      ]
    },
    {
      "cell_type": "code",
      "metadata": {
        "id": "765l553DS7cf",
        "colab_type": "code",
        "outputId": "fdf360e4-d7f0-495d-aa97-9771b7cc2c31",
        "colab": {
          "base_uri": "https://localhost:8080/",
          "height": 51
        }
      },
      "source": [
        "from sklearn.metrics import confusion_matrix\n",
        "y_pred = logreg.predict(X_test)\n",
        "confusion_matrix = confusion_matrix(y_test, y_pred)\n",
        "print(confusion_matrix)\n"
      ],
      "execution_count": 0,
      "outputs": [
        {
          "output_type": "stream",
          "text": [
            "[[183 130]\n",
            " [ 94 193]]\n"
          ],
          "name": "stdout"
        }
      ]
    },
    {
      "cell_type": "code",
      "metadata": {
        "id": "VTH9u4O_U9nM",
        "colab_type": "code",
        "outputId": "102c6706-899e-4790-f3f9-6aafdb938eac",
        "colab": {
          "base_uri": "https://localhost:8080/",
          "height": 172
        }
      },
      "source": [
        "from sklearn.metrics import classification_report\n",
        "print(classification_report(y_test, y_pred))"
      ],
      "execution_count": 0,
      "outputs": [
        {
          "output_type": "stream",
          "text": [
            "              precision    recall  f1-score   support\n",
            "\n",
            "           0       0.66      0.58      0.62       313\n",
            "           1       0.60      0.67      0.63       287\n",
            "\n",
            "   micro avg       0.63      0.63      0.63       600\n",
            "   macro avg       0.63      0.63      0.63       600\n",
            "weighted avg       0.63      0.63      0.63       600\n",
            "\n"
          ],
          "name": "stdout"
        }
      ]
    },
    {
      "cell_type": "code",
      "metadata": {
        "id": "SkPTY4e2Vs43",
        "colab_type": "code",
        "outputId": "7d7f1fcd-f2af-4880-cd79-f6217cf0f098",
        "colab": {
          "base_uri": "https://localhost:8080/",
          "height": 295
        }
      },
      "source": [
        "from sklearn.metrics import roc_auc_score\n",
        "from sklearn.metrics import roc_curve\n",
        "import matplotlib.pyplot as plt\n",
        "logit_roc_auc = roc_auc_score(y_test, logreg.predict(X_test))\n",
        "fpr, tpr, thresholds = roc_curve(y_test, logreg.predict_proba(X_test)[:,1])\n",
        "plt.figure()\n",
        "plt.plot(fpr, tpr, label='Logistic Regression (area = %0.2f)' % logit_roc_auc)\n",
        "plt.plot([0, 1], [0, 1],'r--')\n",
        "plt.xlim([0.0, 1.0])\n",
        "plt.ylim([0.0, 1.05])\n",
        "plt.xlabel('False Positive Rate')\n",
        "plt.ylabel('True Positive Rate')\n",
        "plt.title('Receiver operating characteristic')\n",
        "plt.legend(loc=\"lower right\")\n",
        "#plt.savefig('Log_ROC')\n",
        "plt.show()"
      ],
      "execution_count": 0,
      "outputs": [
        {
          "output_type": "display_data",
          "data": {
            "image/png": "[encoded data removed]",
            "text/plain": [
              "<Figure size 432x288 with 1 Axes>"
            ]
          },
          "metadata": {
            "tags": []
          }
        }
      ]
    },
    {
      "cell_type": "markdown",
      "metadata": {
        "id": "TFPI9pNiWfCb",
        "colab_type": "text"
      },
      "source": [
        "**Input X_train to the model and predict a probability of Relevance**\n",
        "\n",
        "\n",
        "*   then make a spreadsheet between cosine similarity score and probability of Relevance\n",
        "*   sort column probability of Relevance by descending order\n",
        "\n"
      ]
    },
    {
      "cell_type": "code",
      "metadata": {
        "id": "3rxsx1QjWpcf",
        "colab_type": "code",
        "outputId": "e85cd66c-ee00-48a9-bcf1-0de2de7c2977",
        "colab": {
          "base_uri": "https://localhost:8080/",
          "height": 137
        }
      },
      "source": [
        "P_relevance = logreg.predict_proba(X_train)\n",
        "P_relevance"
      ],
      "execution_count": 0,
      "outputs": [
        {
          "output_type": "execute_result",
          "data": {
            "text/plain": [
              "array([[0.43282089, 0.56717911],\n",
              "       [0.48891315, 0.51108685],\n",
              "       [0.29364295, 0.70635705],\n",
              "       ...,\n",
              "       [0.67842468, 0.32157532],\n",
              "       [0.54272523, 0.45727477],\n",
              "       [0.46618517, 0.53381483]])"
            ]
          },
          "metadata": {
            "tags": []
          },
          "execution_count": 30
        }
      ]
    },
    {
      "cell_type": "code",
      "metadata": {
        "id": "GVAgoWqHWvHG",
        "colab_type": "code",
        "outputId": "9eb61bc5-6d3c-417a-d0e6-8b87afa92ab4",
        "colab": {
          "base_uri": "https://localhost:8080/",
          "height": 203
        }
      },
      "source": [
        "summary_df = pd.DataFrame(data={\"CSS\":X_train.flatten(),\"Relevant\":P_relevance[:,1]})\n",
        "summary_df.head()"
      ],
      "execution_count": 0,
      "outputs": [
        {
          "output_type": "execute_result",
          "data": {
            "text/html": [
              "<div>\n",
              "<style scoped>\n",
              "    .dataframe tbody tr th:only-of-type {\n",
              "        vertical-align: middle;\n",
              "    }\n",
              "\n",
              "    .dataframe tbody tr th {\n",
              "        vertical-align: top;\n",
              "    }\n",
              "\n",
              "    .dataframe thead th {\n",
              "        text-align: right;\n",
              "    }\n",
              "</style>\n",
              "<table border=\"1\" class=\"dataframe\">\n",
              "  <thead>\n",
              "    <tr style=\"text-align: right;\">\n",
              "      <th></th>\n",
              "      <th>CSS</th>\n",
              "      <th>Relevant</th>\n",
              "    </tr>\n",
              "  </thead>\n",
              "  <tbody>\n",
              "    <tr>\n",
              "      <th>0</th>\n",
              "      <td>[[0.44699302]]</td>\n",
              "      <td>0.567179</td>\n",
              "    </tr>\n",
              "    <tr>\n",
              "      <th>1</th>\n",
              "      <td>[[0.38152477]]</td>\n",
              "      <td>0.511087</td>\n",
              "    </tr>\n",
              "    <tr>\n",
              "      <th>2</th>\n",
              "      <td>[[0.62295043]]</td>\n",
              "      <td>0.706357</td>\n",
              "    </tr>\n",
              "    <tr>\n",
              "      <th>3</th>\n",
              "      <td>[[0.23220487]]</td>\n",
              "      <td>0.384356</td>\n",
              "    </tr>\n",
              "    <tr>\n",
              "      <th>4</th>\n",
              "      <td>[[0.35122186]]</td>\n",
              "      <td>0.484942</td>\n",
              "    </tr>\n",
              "  </tbody>\n",
              "</table>\n",
              "</div>"
            ],
            "text/plain": [
              "              CSS  Relevant\n",
              "0  [[0.44699302]]  0.567179\n",
              "1  [[0.38152477]]  0.511087\n",
              "2  [[0.62295043]]  0.706357\n",
              "3  [[0.23220487]]  0.384356\n",
              "4  [[0.35122186]]  0.484942"
            ]
          },
          "metadata": {
            "tags": []
          },
          "execution_count": 32
        }
      ]
    },
    {
      "cell_type": "code",
      "metadata": {
        "id": "CO7jQLYtXctj",
        "colab_type": "code",
        "outputId": "3d6cb3ba-20cf-46ee-c82c-4434ac4f7aa6",
        "colab": {
          "base_uri": "https://localhost:8080/",
          "height": 203
        }
      },
      "source": [
        "summary_df.sort_values(by=['Relevant'],ascending=False,inplace=True)\n",
        "summary_df.head()"
      ],
      "execution_count": 0,
      "outputs": [
        {
          "output_type": "execute_result",
          "data": {
            "text/html": [
              "<div>\n",
              "<style scoped>\n",
              "    .dataframe tbody tr th:only-of-type {\n",
              "        vertical-align: middle;\n",
              "    }\n",
              "\n",
              "    .dataframe tbody tr th {\n",
              "        vertical-align: top;\n",
              "    }\n",
              "\n",
              "    .dataframe thead th {\n",
              "        text-align: right;\n",
              "    }\n",
              "</style>\n",
              "<table border=\"1\" class=\"dataframe\">\n",
              "  <thead>\n",
              "    <tr style=\"text-align: right;\">\n",
              "      <th></th>\n",
              "      <th>CSS</th>\n",
              "      <th>Relevant</th>\n",
              "    </tr>\n",
              "  </thead>\n",
              "  <tbody>\n",
              "    <tr>\n",
              "      <th>798</th>\n",
              "      <td>[[0.71116614]]</td>\n",
              "      <td>0.765357</td>\n",
              "    </tr>\n",
              "    <tr>\n",
              "      <th>1293</th>\n",
              "      <td>[[0.69774646]]</td>\n",
              "      <td>0.756936</td>\n",
              "    </tr>\n",
              "    <tr>\n",
              "      <th>605</th>\n",
              "      <td>[[0.6899264]]</td>\n",
              "      <td>0.751935</td>\n",
              "    </tr>\n",
              "    <tr>\n",
              "      <th>874</th>\n",
              "      <td>[[0.68280256]]</td>\n",
              "      <td>0.747319</td>\n",
              "    </tr>\n",
              "    <tr>\n",
              "      <th>53</th>\n",
              "      <td>[[0.67116594]]</td>\n",
              "      <td>0.739659</td>\n",
              "    </tr>\n",
              "  </tbody>\n",
              "</table>\n",
              "</div>"
            ],
            "text/plain": [
              "                 CSS  Relevant\n",
              "798   [[0.71116614]]  0.765357\n",
              "1293  [[0.69774646]]  0.756936\n",
              "605    [[0.6899264]]  0.751935\n",
              "874   [[0.68280256]]  0.747319\n",
              "53    [[0.67116594]]  0.739659"
            ]
          },
          "metadata": {
            "tags": []
          },
          "execution_count": 43
        }
      ]
    },
    {
      "cell_type": "markdown",
      "metadata": {
        "id": "ZaJoEtF3YWly",
        "colab_type": "text"
      },
      "source": [
        "**show plot between CSS and P(Relevance)**"
      ]
    },
    {
      "cell_type": "code",
      "metadata": {
        "id": "gheByuxMX5o5",
        "colab_type": "code",
        "outputId": "7b075f75-1d25-4cd2-8b42-4b5005cc1379",
        "colab": {
          "base_uri": "https://localhost:8080/",
          "height": 300
        }
      },
      "source": [
        "plt.xlabel('CSS')\n",
        "plt.ylabel('P(Relevance)')\n",
        "plt.plot(summary_df.loc[:,\"CSS\"], summary_df.loc[:,\"Relevant\"]) "
      ],
      "execution_count": 0,
      "outputs": [
        {
          "output_type": "execute_result",
          "data": {
            "text/plain": [
              "[<matplotlib.lines.Line2D at 0x7f10c418aba8>]"
            ]
          },
          "metadata": {
            "tags": []
          },
          "execution_count": 42
        },
        {
          "output_type": "display_data",
          "data": {
            "image/png": "[encoded data removed]",
            "text/plain": [
              "<Figure size 432x288 with 1 Axes>"
            ]
          },
          "metadata": {
            "tags": []
          }
        }
      ]
    },
    {
      "cell_type": "markdown",
      "metadata": {
        "id": "U7bvm5PEYii3",
        "colab_type": "text"
      },
      "source": [
        "**Filter reccords only when P(Relevance) switch from 0.499 to 0.501**"
      ]
    },
    {
      "cell_type": "code",
      "metadata": {
        "id": "G7ldTIyuX47F",
        "colab_type": "code",
        "outputId": "d4d6ca78-5b1b-4bfe-8d73-5cd8557d4cb3",
        "colab": {
          "base_uri": "https://localhost:8080/",
          "height": 295
        }
      },
      "source": [
        "test1=summary_df.loc[:,\"Relevant\"]>0.499\n",
        "test2=summary_df.loc[:,\"Relevant\"]<0.501\n",
        "summary_df[test1&test2]"
      ],
      "execution_count": 0,
      "outputs": [
        {
          "output_type": "execute_result",
          "data": {
            "text/html": [
              "<div>\n",
              "<style scoped>\n",
              "    .dataframe tbody tr th:only-of-type {\n",
              "        vertical-align: middle;\n",
              "    }\n",
              "\n",
              "    .dataframe tbody tr th {\n",
              "        vertical-align: top;\n",
              "    }\n",
              "\n",
              "    .dataframe thead th {\n",
              "        text-align: right;\n",
              "    }\n",
              "</style>\n",
              "<table border=\"1\" class=\"dataframe\">\n",
              "  <thead>\n",
              "    <tr style=\"text-align: right;\">\n",
              "      <th></th>\n",
              "      <th>CSS</th>\n",
              "      <th>Relevant</th>\n",
              "    </tr>\n",
              "  </thead>\n",
              "  <tbody>\n",
              "    <tr>\n",
              "      <th>1370</th>\n",
              "      <td>[[0.3697337]]</td>\n",
              "      <td>0.500913</td>\n",
              "    </tr>\n",
              "    <tr>\n",
              "      <th>1074</th>\n",
              "      <td>[[0.3696581]]</td>\n",
              "      <td>0.500848</td>\n",
              "    </tr>\n",
              "    <tr>\n",
              "      <th>766</th>\n",
              "      <td>[[0.36941808]]</td>\n",
              "      <td>0.500641</td>\n",
              "    </tr>\n",
              "    <tr>\n",
              "      <th>568</th>\n",
              "      <td>[[0.36894268]]</td>\n",
              "      <td>0.500230</td>\n",
              "    </tr>\n",
              "    <tr>\n",
              "      <th>967</th>\n",
              "      <td>[[0.36863786]]</td>\n",
              "      <td>0.499967</td>\n",
              "    </tr>\n",
              "    <tr>\n",
              "      <th>119</th>\n",
              "      <td>[[0.3684608]]</td>\n",
              "      <td>0.499814</td>\n",
              "    </tr>\n",
              "    <tr>\n",
              "      <th>786</th>\n",
              "      <td>[[0.36828294]]</td>\n",
              "      <td>0.499661</td>\n",
              "    </tr>\n",
              "    <tr>\n",
              "      <th>1136</th>\n",
              "      <td>[[0.36754924]]</td>\n",
              "      <td>0.499028</td>\n",
              "    </tr>\n",
              "  </tbody>\n",
              "</table>\n",
              "</div>"
            ],
            "text/plain": [
              "                 CSS  Relevant\n",
              "1370   [[0.3697337]]  0.500913\n",
              "1074   [[0.3696581]]  0.500848\n",
              "766   [[0.36941808]]  0.500641\n",
              "568   [[0.36894268]]  0.500230\n",
              "967   [[0.36863786]]  0.499967\n",
              "119    [[0.3684608]]  0.499814\n",
              "786   [[0.36828294]]  0.499661\n",
              "1136  [[0.36754924]]  0.499028"
            ]
          },
          "metadata": {
            "tags": []
          },
          "execution_count": 45
        }
      ]
    },
    {
      "cell_type": "markdown",
      "metadata": {
        "id": "Ql63IT8MY_0M",
        "colab_type": "text"
      },
      "source": [
        "# We found that 0.3689 is the similarity threshold for our system \n",
        "\n",
        "*Because P(Relevance) turning from 0.499967 to 0.500230*"
      ]
    }
  ]
}